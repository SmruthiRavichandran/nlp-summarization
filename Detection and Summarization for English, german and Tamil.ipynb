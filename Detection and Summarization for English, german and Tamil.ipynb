{
 "cells": [
  {
   "cell_type": "markdown",
   "id": "b67d3112",
   "metadata": {},
   "source": [
    "# Summerization of Text using NLTK, Langdetect and Advertools\n",
    "\n",
    "Summerization is one of the most essential tools of day to day lives as not many have the time to read read a lot of books.\n",
    "Summerization is an effiecient tool that can be used to save time on a regular basis.\n",
    "The technique used here is the extraction methrod where the machine would go though the text and form a small version of the text that it considers importent, In this technique it only selects the specific sentences and they do not create new sentences.\n",
    "\n",
    "        In the program I have done it so it can detect 3 languages but any number of languages can be detected by changing the language code "
   ]
  },
  {
   "cell_type": "code",
   "execution_count": 1,
   "id": "4e0a240f",
   "metadata": {},
   "outputs": [],
   "source": [
    "# these are the packages used \n",
    "import nltk\n",
    "import langdetect\n",
    "import advertools as adv"
   ]
  },
  {
   "cell_type": "code",
   "execution_count": 2,
   "id": "4636ce8a",
   "metadata": {},
   "outputs": [],
   "source": [
    "from nltk.corpus import stopwords\n",
    "from nltk.tokenize import word_tokenize , sent_tokenize\n",
    "from langdetect import detect\n"
   ]
  },
  {
   "cell_type": "code",
   "execution_count": 3,
   "id": "dce9f849",
   "metadata": {},
   "outputs": [
    {
     "name": "stdout",
     "output_type": "stream",
     "text": [
      "text:BERT is an open source machine learning framework for natural language processing (NLP). BERT is designed to help computers understand the meaning of ambiguous language in text by using surrounding text to establish context. The BERT framework was pre-trained using text from Wikipedia and can be fine-tuned with question and answer datasets. BERT, which stands for Bidirectional Encoder Representations from Transformers, is based on Transformers, a deep learning model in which every output element is connected to every input element, and the weightings between them are dynamically calculated based upon their connection. (In NLP, this process is called attention. Historically, language models could only read text input sequentially -- either left-to-right or right-to-left -- but couldn't do both at the same time. BERT is different because it is designed to read in both directions at once. This capability, enabled by the introduction of Transformers, is known as bidirectionality.  Using this bidirectional capability, BERT is pre-trained on two different, but related, NLP tasks: Masked Language Modeling and Next Sentence Prediction. The objective of Masked Language Model (MLM) training is to hide a word in a sentence and then have the program predict what word has been hidden (masked) based on the hidden word's context. The objective of Next Sentence Prediction training is to have the program predict whether two given sentences have a logical, sequential connection or whether their relationship is simply random. Background Transformers were first introduced by Google in 2017. At the time of their introduction, language models primarily used recurrent neural networks (RNN) and convolutional neural networks (CNN) to handle NLP tasks. Although these models are competent, the Transformer is considered a significant improvement because it doesn't require sequences of data to be processed in any fixed order, whereas RNNs and CNNs do. Because Transformers can process data in any order, they enable training on larger amounts of data than ever was possible before their existence. This, in turn, facilitated the creation of pre-trained models like BERT, which was trained on massive amounts of language data prior to its release.  In 2018, Google introduced and open-sourced BERT. In its research stages, the framework achieved groundbreaking results in 11 natural language understanding tasks, including sentiment analysis, semantic role labeling, sentence classification and the disambiguation of polysemous words, or words with multiple meanings. Completing these tasks distinguished BERT from previous language models such as word2vec and GloVe, which are limited when interpreting context and polysemous words. BERT effectively addresses ambiguity, which is the greatest challenge to natural language understanding according to research scientists in the field. It is capable of parsing language with a relatively human-like \"common sense\". In October 2019, Google announced that they would begin applying BERT to their United States based production search algorithms. BERT is expected to affect 10% of Google search queries. Organizations are recommended not to try and optimize content for BERT, as BERT aims to provide a natural-feeling search experience. Users are advised to keep queries and content focused on the natural subject matter and natural user experience. In December 2019, BERT was applied to more than 70 different languages. How BERT works The goal of any given NLP technique is to understand human language as it is spoken naturally. In BERT's case, this typically means predicting a word in a blank. To do this, models typically need to train using a large repository of specialized, labeled training data. This necessitates laborious manual data labeling by teams of linguists. BERT, however, was pre-trained using only an unlabeled, plain text corpus (namely the entirety of the English Wikipedia, and the Brown Corpus). It continues to learn unsupervised from the unlabeled text and improve even as its being used in practical applications (ie Google search). Its pre-training serves as a base layer of \"knowledge\" to build from. From there, BERT can adapt to the ever-growing body of searchable content and queries and be fine-tuned to a user's specifications. This process is known as transfer learning. As mentioned above, BERT is made possible by Google's research on Transformers. The transformer is the part of the model that gives BERT its increased capacity for understanding context and ambiguity in language. The transformer does this by processing any given word in relation to all other words in a sentence, rather than processing them one at a time. By looking at all surrounding words, the Transformer allows the BERT model to understand the full context of the word, and therefore better understand searcher intent. This is contrasted against the traditional method of language processing, known as word embedding, in which previous models like GloVe and word2vec would map every single word to a vector, which represents only one dimension, a sliver, of that word's meaning. These word embedding models require large datasets of labeled data. While they are adept at many general NLP tasks, they fail at the context-heavy, predictive nature of question answering, because all words are in some sense fixed to a vector or meaning. BERT uses a method of masked language modeling to keep the word in focus from \"seeing itself\" -- that is, having a fixed meaning independent of its context. BERT is then forced to identify the masked word based on context alone. In BERT words are defined by their surroundings, not by a pre-fixed identity. In the words of English linguist John Rupert Firth, \"You shall know a word by the company it keeps.\" BERT is also the first NLP technique to rely solely on self-attention mechanism, which is made possible by the bidirectional Transformers at the center of BERT's design. This is significant because often, a word may change meaning as a sentence develops. Each word added augments the overall meaning of the word being focused on by the NLP algorithm. The more words that are present in total in each sentence or phrase, the more ambiguous the word in focus becomes. BERT accounts for the augmented meaning by reading bidirectionally, accounting for the effect of all other words in a sentence on the focus word and eliminating the left-to-right momentum that biases words towards a certain meaning as a sentence progresses. for example, in the image above, BERT is determining which prior word in the sentence the word \"is\" referring to, and then using its attention mechanism to weigh the options. The word with the highest calculated score is deemed the correct association (i.e., \"is\" refers to \"animal\", not \"he\"). If this phrase was a search query, the results would reflect this subtler, more precise understanding the BERT reached. What is BERT used for? BERT is currently being used at Google to optimize the interpretation of user search queries. BERT excels at several functions that make this possible, including: Sequence-to-sequence based language generation tasks such as: Question answering Abstract summarization Sentence prediction Conversational response generation Natural language understanding tasks such as: Polysemy and Coreference (words that sound or look the same but have different meanings) resolution Word sense disambiguation Natural language inference Sentiment classification BERT is expected to have a large impact on voice search as well as text-based search, which has been error-prone with Google's NLP techniques to date. BERT is also expected to drastically improve international SEO, because its proficiency in understanding context helps it interpret patterns that different languages share without having to understand the language completely. More broadly, BERT has the potential to drastically improve artificial intelligence systems across the board.  BERT is open source, meaning anyone can use it. Google claims that users can train a state-of-the-art question and answer system in just 30 minutes on a cloud tensor processing unit (TPU), and in a few hours using a graphic processing unit (GPU). Many other organizations, research groups and separate factions of Google are fine-tuning the BERT model architecture with supervised training to either optimize it for efficiency (modifying the learning rate, for example) or specialize it for certain tasks by pre-training it with certain contextual representations. Some examples include:\n"
     ]
    },
    {
     "name": "stdout",
     "output_type": "stream",
     "text": [
      "Language dected:English\n"
     ]
    }
   ],
   "source": [
    "# Here we are getting the text that needs to be summerized \n",
    "\n",
    "test=input(\"text:\")\n",
    "if(detect(test)=='ta'):# Here the text is checked if it is Tamil and 'ta'=> Tamil\n",
    "        stopwords = set(adv.stopwords[\"tamil\"])# getting the stop words for Tamil from the advertools\n",
    "        print(\"Language detected:Tamil\")\n",
    "elif(detect(test)=='en'):# Here the text is checked if it is English and 'en'=> English\n",
    "        stopwords = set(stopwords.words(\"english\"))\n",
    "        print(\"Language dected:English\")\n",
    "elif(detect(test)=='de'):# Here the text is checked if it is German and 'de'=> German(deutsch)\n",
    "        stopwords = set(adv.stopwords[\"german\"])\n",
    "        print(\"Language detected:German\")"
   ]
  },
  {
   "cell_type": "code",
   "execution_count": 4,
   "id": "057e35ae",
   "metadata": {},
   "outputs": [],
   "source": [
    "# Here the words are tokenized so that the text can be split into words\n",
    "words = word_tokenize(test)\n",
    "freqTable = dict()\n",
    "\n",
    "for word in words:\n",
    "    word= word.lower()\n",
    "    if word in stopwords:\n",
    "        continue\n",
    "    if word in freqTable:\n",
    "        freqTable[word] += 1\n",
    "    else:\n",
    "        freqTable[word] = 1"
   ]
  },
  {
   "cell_type": "code",
   "execution_count": 5,
   "id": "7984f819",
   "metadata": {},
   "outputs": [],
   "source": [
    "sentences = sent_tokenize(test)\n",
    "sentenceValue = dict()"
   ]
  },
  {
   "cell_type": "code",
   "execution_count": 6,
   "id": "ae8269d3",
   "metadata": {},
   "outputs": [],
   "source": [
    "for sentence in sentences:\n",
    "    for word,freq in freqTable.items():\n",
    "        if word in sentence.lower():\n",
    "            if sentence in sentenceValue:\n",
    "                sentenceValue[sentence] +=freq\n",
    "            else:\n",
    "                sentenceValue[sentence] = freq"
   ]
  },
  {
   "cell_type": "code",
   "execution_count": 7,
   "id": "78168453",
   "metadata": {},
   "outputs": [],
   "source": [
    "sumValues=0\n",
    "for sentence in sentenceValue:\n",
    "    sumValues += sentenceValue[sentence]"
   ]
  },
  {
   "cell_type": "code",
   "execution_count": 8,
   "id": "eb126dd5",
   "metadata": {},
   "outputs": [],
   "source": [
    "avg = int(sumValues/len(sentenceValue))"
   ]
  },
  {
   "cell_type": "code",
   "execution_count": 9,
   "id": "c46f4a22",
   "metadata": {},
   "outputs": [],
   "source": [
    "summary=''"
   ]
  },
  {
   "cell_type": "code",
   "execution_count": 10,
   "id": "885a3e81",
   "metadata": {},
   "outputs": [],
   "source": [
    "for sentence in sentences:\n",
    "    if (sentence in sentenceValue) and (sentenceValue[sentence]>(1.5 *avg)):\n",
    "        summary +=\" \" +sentence\n"
   ]
  },
  {
   "cell_type": "code",
   "execution_count": 11,
   "id": "04af833b",
   "metadata": {},
   "outputs": [
    {
     "name": "stdout",
     "output_type": "stream",
     "text": [
      " BERT excels at several functions that make this possible, including: Sequence-to-sequence based language generation tasks such as: Question answering Abstract summarization Sentence prediction Conversational response generation Natural language understanding tasks such as: Polysemy and Coreference (words that sound or look the same but have different meanings) resolution Word sense disambiguation Natural language inference Sentiment classification BERT is expected to have a large impact on voice search as well as text-based search, which has been error-prone with Google's NLP techniques to date. Many other organizations, research groups and separate factions of Google are fine-tuning the BERT model architecture with supervised training to either optimize it for efficiency (modifying the learning rate, for example) or specialize it for certain tasks by pre-training it with certain contextual representations.\n"
     ]
    }
   ],
   "source": [
    "print(summary)"
   ]
  },
  {
   "cell_type": "code",
   "execution_count": null,
   "id": "9ade73b3",
   "metadata": {},
   "outputs": [],
   "source": []
  }
 ],
 "metadata": {
  "kernelspec": {
   "display_name": "Python 3 (ipykernel)",
   "language": "python",
   "name": "python3"
  },
  "language_info": {
   "codemirror_mode": {
    "name": "ipython",
    "version": 3
   },
   "file_extension": ".py",
   "mimetype": "text/x-python",
   "name": "python",
   "nbconvert_exporter": "python",
   "pygments_lexer": "ipython3",
   "version": "3.8.11"
  }
 },
 "nbformat": 4,
 "nbformat_minor": 5
}
