{
 "cells": [
  {
   "cell_type": "markdown",
   "id": "192bf742",
   "metadata": {},
   "source": [
    "# Summerization of Text using NLTK, Langdetect and Advertools\n",
    "\n",
    "Summerization is one of the most essential tools of day to day lives as not many have the time to read read a lot of books.\n",
    "Summerization is an effiecient tool that can be used to save time on a regular basis.\n",
    "The technique used here is the extraction methrod where the machine would go though the text and form a small version of the text that it considers importent, In this technique it only selects the specific sentences and they do not create new sentences.\n",
    "\n",
    "        In the program I have done it so it can detect 3 languages but any number of languages can be detected by changing the language code "
   ]
  },
  {
   "cell_type": "code",
   "execution_count": 9,
   "id": "4e0a240f",
   "metadata": {},
   "outputs": [],
   "source": [
    "# these are the packages used \n",
    "import nltk\n",
    "import langdetect\n",
    "import advertools as adv"
   ]
  },
  {
   "cell_type": "code",
   "execution_count": 10,
   "id": "4636ce8a",
   "metadata": {},
   "outputs": [],
   "source": [
    "from nltk.corpus import stopwords\n",
    "from nltk.tokenize import word_tokenize , sent_tokenize\n",
    "from langdetect import detect\n"
   ]
  },
  {
   "cell_type": "code",
   "execution_count": 11,
   "id": "dce9f849",
   "metadata": {},
   "outputs": [
    {
     "name": "stdout",
     "output_type": "stream",
     "text": [
      "text:Description LabTwin is creating the next generation of digital lab tools for smart labs, starting with the world’s first voice-activated lab assistant. With LabTwin, scientists can collect data, access information, manage experiments and streamline documentation simply by talking. Using voice recognition and machine learning technology, LabTwin’s smart assistant simplifies data capture, structures valuable information, and integrates with lab instruments and informatic systems.  We are a strong multinational interdisciplinary team with a mission to empower scientists and are based in Berlin. Our voice-powered assistant is now used by scientists in 7 of the Top20 biopharma companies, as well as chemical companies, around the world.    We’re looking for a Working Student to join our Data Science Team in Berlin for 20 hours per week.  You will have the chance to collaborate closely with a team of talented data scientists, designers, engineers, scientists and product managers from discovery to delivery. The work you do here will have a direct impact on our product.    KEY RESPONSIBILITIES:  Continuously improve our state-of-the-art scientific speech recognition model Analyze transcription errors and act on them. Design and create new datasets for testing our speech-recognition system. Train, test and evaluate models. Investigate new NLP technologies and test their feasibility for improving our product, such as named entity recognition and question answering models Requirements Enrolled in a Master for a minimum of 2 more semesters with the focus on Machine Learning, Computer Science. Passionate about Life Science, Science, Data, Machine Learning and NLP. > 2 years’ experience with Python > 2 years’ experience with SQL Experience with NLP techniques/models, such as BERT. Experience working in an agile environment Plus: Experience with the following Python libraries: Spacy, Huggingface, Pytorch Plus: Experience with AWS (Redshift, S3, ECS, Sagemaker) Plus: Experience writing production-ready Python code Benefits A team with a great mission: You will be part of our mission to help passionate and innovative scientists accelerate scientific discovery. And you will work and learn from a diverse team of experienced interdisciplinary colleagues including life scientists. Development: Our commitment to support your professional and personal development. Budget for seminars and conferences, internal training and onsite German courses. Science education, a small demo lab to enable everyone to understand our users better. Room for ownership, creativity and cross functional collaboration. Access for O’Reilly learning platform and LinkedIn Learning platform. Flexibility: Flexibility in work schedule, including home office. Meeting free Fridays to focus. 30 days of paid leave, as long as you promise to take them all.;-) Competitive salary. We want you to feel great here: A gym around the corner, healthy snacks. Really good coffee. And you will work in one of the best spaces in central Berlin. A beautiful garden, roof terrace and grill for a nice evening. And an AC for very hot Berlin summer. A great work-life balance that we care about.\n",
      "Language dected:English\n"
     ]
    }
   ],
   "source": [
    "# Here we are getting the text that needs to be summerized \n",
    "\n",
    "test=input(\"text:\")\n",
    "if(detect(test)=='ta'):# Here the text is checked if it is Tamil and 'ta'=> Tamil\n",
    "        stopwords = set(adv.stopwords[\"tamil\"])# getting the stop words for Tamil from the advertools\n",
    "        print(\"Language detected:Tamil\")\n",
    "elif(detect(test)=='en'):# Here the text is checked if it is English and 'en'=> English\n",
    "        stopwords = set(stopwords.words(\"english\"))\n",
    "        print(\"Language dected:English\")\n",
    "elif(detect(test)=='de'):# Here the text is checked if it is German and 'de'=> German(deutsch)\n",
    "        stopwords = set(adv.stopwords[\"german\"])\n",
    "        print(\"Language detected:German\")"
   ]
  },
  {
   "cell_type": "code",
   "execution_count": 12,
   "id": "057e35ae",
   "metadata": {},
   "outputs": [],
   "source": [
    "# Here the words are tokenized so that the text can be split into words\n",
    "words = word_tokenize(test)\n",
    "freqTable = dict()\n",
    "\n",
    "for word in words:\n",
    "    word= word.lower() \n",
    "    if word in stopwords:\n",
    "        continue\n",
    "    if word in freqTable:\n",
    "        freqTable[word] += 1\n",
    "    else:\n",
    "        freqTable[word] = 1"
   ]
  },
  {
   "cell_type": "code",
   "execution_count": 13,
   "id": "7984f819",
   "metadata": {},
   "outputs": [],
   "source": [
    "sentences = sent_tokenize(test)\n",
    "sentenceValue = dict()"
   ]
  },
  {
   "cell_type": "code",
   "execution_count": 14,
   "id": "ae8269d3",
   "metadata": {},
   "outputs": [],
   "source": [
    "for sentence in sentences:\n",
    "    for word,freq in freqTable.items():\n",
    "        if word in sentence.lower():\n",
    "            if sentence in sentenceValue:\n",
    "                sentenceValue[sentence] +=freq\n",
    "            else:\n",
    "                sentenceValue[sentence] = freq"
   ]
  },
  {
   "cell_type": "code",
   "execution_count": 15,
   "id": "850abbb0",
   "metadata": {},
   "outputs": [],
   "source": [
    "sumValues=0"
   ]
  },
  {
   "cell_type": "code",
   "execution_count": 16,
   "id": "fbcca977",
   "metadata": {},
   "outputs": [],
   "source": [
    "for sentence in sentenceValue:\n",
    "    sumValues += sentenceValue[sentence]\n",
    "\n",
    "avg = int(sumValues/len(sentenceValue))\n",
    "\n",
    "summary=''"
   ]
  },
  {
   "cell_type": "code",
   "execution_count": 17,
   "id": "f52d9b06",
   "metadata": {},
   "outputs": [
    {
     "name": "stdout",
     "output_type": "stream",
     "text": [
      "Summary:  Using voice recognition and machine learning technology, LabTwin’s smart assistant simplifies data capture, structures valuable information, and integrates with lab instruments and informatic systems. Investigate new NLP technologies and test their feasibility for improving our product, such as named entity recognition and question answering models Requirements Enrolled in a Master for a minimum of 2 more semesters with the focus on Machine Learning, Computer Science. Experience working in an agile environment Plus: Experience with the following Python libraries: Spacy, Huggingface, Pytorch Plus: Experience with AWS (Redshift, S3, ECS, Sagemaker) Plus: Experience writing production-ready Python code Benefits A team with a great mission: You will be part of our mission to help passionate and innovative scientists accelerate scientific discovery.\n"
     ]
    }
   ],
   "source": [
    "for sentence in sentences:\n",
    "    if (sentence in sentenceValue) and (sentenceValue[sentence]>(1.5 *avg)):\n",
    "        # changing the value of 1.5 to any other can alter the size the text is to be summerized\n",
    "    \n",
    "        summary +=\" \" +sentence\n",
    "\n",
    "print(\"Summary:\",summary)"
   ]
  },
  {
   "cell_type": "code",
   "execution_count": null,
   "id": "78168453",
   "metadata": {},
   "outputs": [],
   "source": []
  }
 ],
 "metadata": {
  "kernelspec": {
   "display_name": "Python 3 (ipykernel)",
   "language": "python",
   "name": "python3"
  },
  "language_info": {
   "codemirror_mode": {
    "name": "ipython",
    "version": 3
   },
   "file_extension": ".py",
   "mimetype": "text/x-python",
   "name": "python",
   "nbconvert_exporter": "python",
   "pygments_lexer": "ipython3",
   "version": "3.8.11"
  }
 },
 "nbformat": 4,
 "nbformat_minor": 5
}
